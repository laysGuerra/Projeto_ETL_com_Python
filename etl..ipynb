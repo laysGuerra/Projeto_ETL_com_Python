{
 "cells": [
  {
   "cell_type": "code",
   "execution_count": 14,
   "metadata": {},
   "outputs": [
    {
     "name": "stdout",
     "output_type": "stream",
     "text": [
      "conexao bem sucedida!\n"
     ]
    }
   ],
   "source": [
    "import pandas as pd\n",
    "import pyodbc\n",
    "\n",
    "conexao = (\n",
    "    'Driver={SQL Server};'\n",
    "    'Server=LAYS-GUERRA;'\n",
    "    'Database=projetospython;'\n",
    ")\n",
    "\n",
    "conexao_instancia = pyodbc.connect(conexao)\n",
    "print('conexao bem sucedida!')\n",
    "\n",
    "cursor = conexao_instancia.cursor()"
   ]
  },
  {
   "cell_type": "code",
   "execution_count": null,
   "metadata": {},
   "outputs": [],
   "source": [
    "#EXTRACT\n",
    "\n",
    "df = pd.read_csv('D:\\Bootcamp_santander\\projetos\\projeto_bootcamp\\dados_clientes.csv')\n",
    "print(df)"
   ]
  },
  {
   "cell_type": "code",
   "execution_count": null,
   "metadata": {},
   "outputs": [],
   "source": [
    "#TRANSFORM\n",
    "\n",
    "for cli in df.iterrows():\n",
    "    message = 'Estes dados foram carregados atravez de um ETL'\n",
    "    df['MENSAGEM'] = message\n",
    "\n",
    "print(df)"
   ]
  },
  {
   "cell_type": "code",
   "execution_count": 17,
   "metadata": {},
   "outputs": [],
   "source": [
    "#LOAD\n",
    "\n",
    "for index,row in df.iterrows():\n",
    "    cursor.execute(\n",
    "        'INSERT INTO usuarios(id,nome,idade,mensagem) VALUES(?,?,?,?)'\n",
    "        ,row.ID\n",
    "        ,row.NOME\n",
    "        ,row.IDADE\n",
    "        ,row.MENSAGEM\n",
    "    )\n",
    "\n",
    "conexao_instancia.commit()\n",
    "cursor.close()\n"
   ]
  }
 ],
 "metadata": {
  "kernelspec": {
   "display_name": "Python 3",
   "language": "python",
   "name": "python3"
  },
  "language_info": {
   "codemirror_mode": {
    "name": "ipython",
    "version": 3
   },
   "file_extension": ".py",
   "mimetype": "text/x-python",
   "name": "python",
   "nbconvert_exporter": "python",
   "pygments_lexer": "ipython3",
   "version": "3.11.0"
  },
  "orig_nbformat": 4
 },
 "nbformat": 4,
 "nbformat_minor": 2
}
